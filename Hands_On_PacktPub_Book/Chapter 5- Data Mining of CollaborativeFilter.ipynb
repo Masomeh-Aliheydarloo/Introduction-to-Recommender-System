{
 "cells": [
  {
   "cell_type": "markdown",
   "id": "b5e49273",
   "metadata": {},
   "source": [
    "# Data Mining"
   ]
  },
  {
   "cell_type": "markdown",
   "id": "a8142c4d",
   "metadata": {},
   "source": [
    "### Problem statement:\n",
    "Collaborative filtering algorithms try to solve the prediction problem.\n",
    "In other words, we are given a matrix of i users and j items. The value in the ith row and the jth column (denoted by rij) denotes the rating given by user i to item j.\n",
    "Our job is to complete this matrix. In other words, we need to predict all the cells in the matrix that we have no data for.we will cover the following topics:\n",
    "\n",
    "---Similarity measures:Given two items, how do we mathematically quantify how different or similar\n",
    "\n",
    "---Dimensionality reduction: To improve performance, speed up calculations, and avoid the curse of dimensionality,it is often a good idea to reduce the number of dimensions.\n",
    "\n",
    "---Supervised learning: Supervised learning is a class of machine learning algorithm that makes use of label data to infer a mapping function that can then be used to predict the label (or class) of unlabeled data.\n",
    "\n",
    "---Clustering: Clustering is a type of unsupervised learning where the algorithm tries to divide all the data points into a certain number of clusters.\n",
    "\n",
    "---Evaluation methods and metrics: The metrics include accuracy, precision, and recall."
   ]
  },
  {
   "cell_type": "code",
   "execution_count": 1,
   "id": "9b7e3ff9",
   "metadata": {},
   "outputs": [],
   "source": [
    "import pandas as pd\n",
    "import matplotlib.pyplot as plt\n",
    "import seaborn as sns\n",
    "import numpy as np"
   ]
  },
  {
   "cell_type": "markdown",
   "id": "1a1e5cd0",
   "metadata": {},
   "source": [
    "# Similarity Measures\n",
    "Different similarity scores are appropriate in different scenarios. For cases where the magnitude is important, the Euclidean distance is an appropriate metric to use. However, as\n",
    "we saw in the case described in the Pearson correlation subsection, magnitude is not as important to us as correlation."
   ]
  },
  {
   "cell_type": "markdown",
   "id": "28e6a648",
   "metadata": {},
   "source": [
    "### 1- Euclidean Score\n",
    "Euclidean scores can take any value between 0 and infinity. The lower the Euclidean score (or distance), the more similar the two vectors are to each other."
   ]
  },
  {
   "cell_type": "code",
   "execution_count": 12,
   "id": "ea624ae2",
   "metadata": {},
   "outputs": [],
   "source": [
    "#Function to compute Euclidean Distance. \n",
    "def euclidean(v1, v2):\n",
    "    \n",
    "    #Convert 1-D Python lists to numpy vectors\n",
    "    v1 = np.array(v1)\n",
    "    v2 = np.array(v2)\n",
    "    \n",
    "    #Compute vector which is the element wise square of the difference\n",
    "    diff = np.power(np.array(v1)- np.array(v2), 2)\n",
    "    \n",
    "    #Perform summation of the elements of the above vector\n",
    "    sigma_val = np.sum(diff)\n",
    "    \n",
    "    #Compute square root and return final Euclidean score\n",
    "    euclid_score = np.sqrt(sigma_val)\n",
    "    \n",
    "    return euclid_score"
   ]
  },
  {
   "cell_type": "code",
   "execution_count": 13,
   "id": "f61ff717",
   "metadata": {},
   "outputs": [],
   "source": [
    "#Define 3 users with ratings for 5 movies\n",
    "u1 = [5,1,2,4,5]\n",
    "u2 = [1,5,4,2,1]\n",
    "u3 = [5,2,2,4,4]"
   ]
  },
  {
   "cell_type": "code",
   "execution_count": 14,
   "id": "f3df1941",
   "metadata": {},
   "outputs": [
    {
     "data": {
      "text/plain": [
       "7.483314773547883"
      ]
     },
     "execution_count": 14,
     "metadata": {},
     "output_type": "execute_result"
    }
   ],
   "source": [
    "euclidean(u1, u2)# u1, u2 are so simillar"
   ]
  },
  {
   "cell_type": "code",
   "execution_count": 15,
   "id": "4ec7e32f",
   "metadata": {},
   "outputs": [
    {
     "data": {
      "text/plain": [
       "1.4142135623730951"
      ]
     },
     "execution_count": 15,
     "metadata": {},
     "output_type": "execute_result"
    }
   ],
   "source": [
    "euclidean(u1, u3)"
   ]
  },
  {
   "cell_type": "code",
   "execution_count": null,
   "id": "9f264361",
   "metadata": {},
   "outputs": [],
   "source": [
    "### 2- Pearson Correlation"
   ]
  },
  {
   "cell_type": "code",
   "execution_count": null,
   "id": "952d0446",
   "metadata": {},
   "outputs": [],
   "source": [
    "alice = [1,1,3,2,4]\n",
    "bob = [2,2,4,3,5]\n",
    "\n",
    "euclidean(alice, bob)"
   ]
  },
  {
   "cell_type": "code",
   "execution_count": null,
   "id": "ace3958d",
   "metadata": {},
   "outputs": [],
   "source": [
    "eve = [5,5,3,4,2]\n",
    "\n",
    "euclidean(eve, alice)"
   ]
  },
  {
   "cell_type": "code",
   "execution_count": null,
   "id": "102f28a6",
   "metadata": {},
   "outputs": [],
   "source": [
    "from scipy.stats import pearsonr\n",
    "\n",
    "pearsonr(alice, bob)"
   ]
  },
  {
   "cell_type": "code",
   "execution_count": null,
   "id": "12ff19d5",
   "metadata": {},
   "outputs": [],
   "source": [
    "pearsonr(alice, eve)"
   ]
  },
  {
   "cell_type": "markdown",
   "id": "440207fd",
   "metadata": {},
   "source": [
    "### 3- Cosine similarity\n",
    "The cosine similarity score computes the cosine of the angle\n",
    "between two vectors in an n-dimensional space. When the\n",
    "cosine score is 1 (or angle is 0), the vectors are exactly similar.\n",
    "On the other hand, a cosine score of -1 (or angle 180 degrees)\n",
    "denotes that the two vectors are exactly dissimilar to each\n",
    "other."
   ]
  },
  {
   "cell_type": "markdown",
   "id": "1b90d793",
   "metadata": {},
   "source": [
    "# Dimensionality reduction\n",
    "Most machine learning algorithms tend to perform poorly as the number of dimensions in the data increases. There are two ways to achieve this:\n",
    "\n",
    "---Feature selection: Involves identifying a subset of features that is most important for that particular use case.\n",
    "\n",
    "---Feature extraction: Feature extraction takes in mdimensional data and transforms it into an ndimensional output space (usually where m >> n)."
   ]
  },
  {
   "cell_type": "markdown",
   "id": "f4776972",
   "metadata": {},
   "source": [
    "### 1- Principal component analysis\n",
    "Principal component analysis is an unsupervised feature extraction algorithm that takes in m-dimensional input to create a set of n (m >> n) linearly uncorrelated variables (called\n",
    "principal components) in such a way that the n dimensions lose as little variance (or information) as possible due to the loss of the (m-n) dimensions."
   ]
  },
  {
   "cell_type": "code",
   "execution_count": 2,
   "id": "965d5865",
   "metadata": {},
   "outputs": [
    {
     "data": {
      "text/html": [
       "<div>\n",
       "<style scoped>\n",
       "    .dataframe tbody tr th:only-of-type {\n",
       "        vertical-align: middle;\n",
       "    }\n",
       "\n",
       "    .dataframe tbody tr th {\n",
       "        vertical-align: top;\n",
       "    }\n",
       "\n",
       "    .dataframe thead th {\n",
       "        text-align: right;\n",
       "    }\n",
       "</style>\n",
       "<table border=\"1\" class=\"dataframe\">\n",
       "  <thead>\n",
       "    <tr style=\"text-align: right;\">\n",
       "      <th></th>\n",
       "      <th>sepal_length</th>\n",
       "      <th>sepal_width</th>\n",
       "      <th>petal_length</th>\n",
       "      <th>petal_width</th>\n",
       "      <th>class</th>\n",
       "    </tr>\n",
       "  </thead>\n",
       "  <tbody>\n",
       "    <tr>\n",
       "      <th>0</th>\n",
       "      <td>5.1</td>\n",
       "      <td>3.5</td>\n",
       "      <td>1.4</td>\n",
       "      <td>0.2</td>\n",
       "      <td>Iris-setosa</td>\n",
       "    </tr>\n",
       "    <tr>\n",
       "      <th>1</th>\n",
       "      <td>4.9</td>\n",
       "      <td>3.0</td>\n",
       "      <td>1.4</td>\n",
       "      <td>0.2</td>\n",
       "      <td>Iris-setosa</td>\n",
       "    </tr>\n",
       "    <tr>\n",
       "      <th>2</th>\n",
       "      <td>4.7</td>\n",
       "      <td>3.2</td>\n",
       "      <td>1.3</td>\n",
       "      <td>0.2</td>\n",
       "      <td>Iris-setosa</td>\n",
       "    </tr>\n",
       "    <tr>\n",
       "      <th>3</th>\n",
       "      <td>4.6</td>\n",
       "      <td>3.1</td>\n",
       "      <td>1.5</td>\n",
       "      <td>0.2</td>\n",
       "      <td>Iris-setosa</td>\n",
       "    </tr>\n",
       "    <tr>\n",
       "      <th>4</th>\n",
       "      <td>5.0</td>\n",
       "      <td>3.6</td>\n",
       "      <td>1.4</td>\n",
       "      <td>0.2</td>\n",
       "      <td>Iris-setosa</td>\n",
       "    </tr>\n",
       "  </tbody>\n",
       "</table>\n",
       "</div>"
      ],
      "text/plain": [
       "   sepal_length  sepal_width  petal_length  petal_width        class\n",
       "0           5.1          3.5           1.4          0.2  Iris-setosa\n",
       "1           4.9          3.0           1.4          0.2  Iris-setosa\n",
       "2           4.7          3.2           1.3          0.2  Iris-setosa\n",
       "3           4.6          3.1           1.5          0.2  Iris-setosa\n",
       "4           5.0          3.6           1.4          0.2  Iris-setosa"
      ]
     },
     "execution_count": 2,
     "metadata": {},
     "output_type": "execute_result"
    }
   ],
   "source": [
    "# Load the Iris dataset into Pandas DataFrame\n",
    "iris = pd.read_csv(\"https://archive.ics.uci.edu/ml/machine-learning-databases/iris/iris.data\", \n",
    "                 names=['sepal_length','sepal_width','petal_length','petal_width','class'])\n",
    "\n",
    "#Display the head of the dataframe\n",
    "iris.head()"
   ]
  },
  {
   "cell_type": "code",
   "execution_count": 3,
   "id": "18524d23",
   "metadata": {},
   "outputs": [
    {
     "data": {
      "text/html": [
       "<div>\n",
       "<style scoped>\n",
       "    .dataframe tbody tr th:only-of-type {\n",
       "        vertical-align: middle;\n",
       "    }\n",
       "\n",
       "    .dataframe tbody tr th {\n",
       "        vertical-align: top;\n",
       "    }\n",
       "\n",
       "    .dataframe thead th {\n",
       "        text-align: right;\n",
       "    }\n",
       "</style>\n",
       "<table border=\"1\" class=\"dataframe\">\n",
       "  <thead>\n",
       "    <tr style=\"text-align: right;\">\n",
       "      <th></th>\n",
       "      <th>sepal_length</th>\n",
       "      <th>sepal_width</th>\n",
       "      <th>petal_length</th>\n",
       "      <th>petal_width</th>\n",
       "    </tr>\n",
       "  </thead>\n",
       "  <tbody>\n",
       "    <tr>\n",
       "      <th>0</th>\n",
       "      <td>-0.900681</td>\n",
       "      <td>1.032057</td>\n",
       "      <td>-1.341272</td>\n",
       "      <td>-1.312977</td>\n",
       "    </tr>\n",
       "    <tr>\n",
       "      <th>1</th>\n",
       "      <td>-1.143017</td>\n",
       "      <td>-0.124958</td>\n",
       "      <td>-1.341272</td>\n",
       "      <td>-1.312977</td>\n",
       "    </tr>\n",
       "    <tr>\n",
       "      <th>2</th>\n",
       "      <td>-1.385353</td>\n",
       "      <td>0.337848</td>\n",
       "      <td>-1.398138</td>\n",
       "      <td>-1.312977</td>\n",
       "    </tr>\n",
       "    <tr>\n",
       "      <th>3</th>\n",
       "      <td>-1.506521</td>\n",
       "      <td>0.106445</td>\n",
       "      <td>-1.284407</td>\n",
       "      <td>-1.312977</td>\n",
       "    </tr>\n",
       "    <tr>\n",
       "      <th>4</th>\n",
       "      <td>-1.021849</td>\n",
       "      <td>1.263460</td>\n",
       "      <td>-1.341272</td>\n",
       "      <td>-1.312977</td>\n",
       "    </tr>\n",
       "  </tbody>\n",
       "</table>\n",
       "</div>"
      ],
      "text/plain": [
       "   sepal_length  sepal_width  petal_length  petal_width\n",
       "0     -0.900681     1.032057     -1.341272    -1.312977\n",
       "1     -1.143017    -0.124958     -1.341272    -1.312977\n",
       "2     -1.385353     0.337848     -1.398138    -1.312977\n",
       "3     -1.506521     0.106445     -1.284407    -1.312977\n",
       "4     -1.021849     1.263460     -1.341272    -1.312977"
      ]
     },
     "execution_count": 3,
     "metadata": {},
     "output_type": "execute_result"
    }
   ],
   "source": [
    "#Import Standard Scaler from scikit-learn\n",
    "from sklearn.preprocessing import StandardScaler\n",
    "\n",
    "#Separate the features and the class\n",
    "X = iris.drop('class', axis=1)\n",
    "y = iris['class']\n",
    "\n",
    "# Scale the features of X\n",
    "X = pd.DataFrame(StandardScaler().fit_transform(X), \n",
    "                 columns = ['sepal_length','sepal_width','petal_length','petal_width'])\n",
    "\n",
    "X.head()"
   ]
  },
  {
   "cell_type": "code",
   "execution_count": 4,
   "id": "a31dc7eb",
   "metadata": {},
   "outputs": [
    {
     "data": {
      "text/html": [
       "<div>\n",
       "<style scoped>\n",
       "    .dataframe tbody tr th:only-of-type {\n",
       "        vertical-align: middle;\n",
       "    }\n",
       "\n",
       "    .dataframe tbody tr th {\n",
       "        vertical-align: top;\n",
       "    }\n",
       "\n",
       "    .dataframe thead th {\n",
       "        text-align: right;\n",
       "    }\n",
       "</style>\n",
       "<table border=\"1\" class=\"dataframe\">\n",
       "  <thead>\n",
       "    <tr style=\"text-align: right;\">\n",
       "      <th></th>\n",
       "      <th>PC1</th>\n",
       "      <th>PC2</th>\n",
       "    </tr>\n",
       "  </thead>\n",
       "  <tbody>\n",
       "    <tr>\n",
       "      <th>0</th>\n",
       "      <td>-2.264542</td>\n",
       "      <td>0.505704</td>\n",
       "    </tr>\n",
       "    <tr>\n",
       "      <th>1</th>\n",
       "      <td>-2.086426</td>\n",
       "      <td>-0.655405</td>\n",
       "    </tr>\n",
       "    <tr>\n",
       "      <th>2</th>\n",
       "      <td>-2.367950</td>\n",
       "      <td>-0.318477</td>\n",
       "    </tr>\n",
       "    <tr>\n",
       "      <th>3</th>\n",
       "      <td>-2.304197</td>\n",
       "      <td>-0.575368</td>\n",
       "    </tr>\n",
       "    <tr>\n",
       "      <th>4</th>\n",
       "      <td>-2.388777</td>\n",
       "      <td>0.674767</td>\n",
       "    </tr>\n",
       "  </tbody>\n",
       "</table>\n",
       "</div>"
      ],
      "text/plain": [
       "        PC1       PC2\n",
       "0 -2.264542  0.505704\n",
       "1 -2.086426 -0.655405\n",
       "2 -2.367950 -0.318477\n",
       "3 -2.304197 -0.575368\n",
       "4 -2.388777  0.674767"
      ]
     },
     "execution_count": 4,
     "metadata": {},
     "output_type": "execute_result"
    }
   ],
   "source": [
    "#Import PCA\n",
    "from sklearn.decomposition import PCA\n",
    "\n",
    "#Intialize a PCA object to transform into the 2D Space.\n",
    "pca = PCA(n_components=2)\n",
    "\n",
    "#Apply PCA\n",
    "pca_iris = pca.fit_transform(X)\n",
    "pca_iris = pd.DataFrame(data = pca_iris, columns = ['PC1', 'PC2'])\n",
    "\n",
    "pca_iris.head()"
   ]
  },
  {
   "cell_type": "code",
   "execution_count": 5,
   "id": "31c46b09",
   "metadata": {},
   "outputs": [
    {
     "data": {
      "text/plain": [
       "array([0.72770452, 0.23030523])"
      ]
     },
     "execution_count": 5,
     "metadata": {},
     "output_type": "execute_result"
    }
   ],
   "source": [
    "# It gives us information about the ratio of variance contained by each principal component:\n",
    "#We see that the first principal component holds about 72.8% of the information, \n",
    "#whereas the second principal component holds about 23.3%.\n",
    "pca.explained_variance_ratio_"
   ]
  },
  {
   "cell_type": "code",
   "execution_count": 7,
   "id": "2149e161",
   "metadata": {},
   "outputs": [],
   "source": [
    "#Concatenate the class variable\n",
    "pca_iris = pd.concat([pca_iris, y], axis = 1)"
   ]
  },
  {
   "cell_type": "code",
   "execution_count": 8,
   "id": "ac2e9ffc",
   "metadata": {},
   "outputs": [
    {
     "data": {
      "text/plain": [
       "<seaborn.axisgrid.FacetGrid at 0x1c6fbe36388>"
      ]
     },
     "execution_count": 8,
     "metadata": {},
     "output_type": "execute_result"
    },
    {
     "data": {
      "image/png": "[encoded data removed]",
      "text/plain": [
       "<Figure size 463.25x360 with 1 Axes>"
      ]
     },
     "metadata": {
      "needs_background": "light"
     },
     "output_type": "display_data"
    }
   ],
   "source": [
    "#Display the scatterplot\n",
    "sns.lmplot(x='PC1', y='PC2', data=pca_iris, hue='class', fit_reg=False)"
   ]
  },
  {
   "cell_type": "markdown",
   "id": "60c6be55",
   "metadata": {},
   "source": [
    "### 2- Linear-discriminant analysis\n",
    "unlike PCA, which tries to retain the maximum information, LDA aims to identify a set of n features that result in the maximum separation (or discrimination) of classes.\n",
    "Since LDA requires labeled data in order to determine its components, it is a type of supervised learning algorithm"
   ]
  },
  {
   "cell_type": "code",
   "execution_count": 9,
   "id": "a1db6df0",
   "metadata": {},
   "outputs": [
    {
     "data": {
      "text/plain": [
       "<seaborn.axisgrid.FacetGrid at 0x1c6fbf80348>"
      ]
     },
     "execution_count": 9,
     "metadata": {},
     "output_type": "execute_result"
    },
    {
     "data": {
      "image/png": "[encoded data removed]",
      "text/plain": [
       "<Figure size 463.25x360 with 1 Axes>"
      ]
     },
     "metadata": {
      "needs_background": "light"
     },
     "output_type": "display_data"
    }
   ],
   "source": [
    "#Import LDA\n",
    "from sklearn.discriminant_analysis import LinearDiscriminantAnalysis\n",
    "\n",
    "#Define the LDA Object to have two components\n",
    "lda = LinearDiscriminantAnalysis(n_components = 2)\n",
    "\n",
    "#Apply LDA\n",
    "lda_iris = lda.fit_transform(X, y)\n",
    "lda_iris = pd.DataFrame(data = lda_iris, columns = ['C1', 'C2'])\n",
    "\n",
    "#Concatenate the class variable\n",
    "lda_iris = pd.concat([lda_iris, y], axis = 1)\n",
    "\n",
    "#Display the scatterplot\n",
    "sns.lmplot(x='C1', y='C2', data=lda_iris, hue='class', fit_reg=False)"
   ]
  },
  {
   "cell_type": "markdown",
   "id": "a040cf3f",
   "metadata": {},
   "source": [
    "### 3-Singular value decomposition(SVD)\n",
    "Singular value decomposition, or SVD, is a type of matrix analysis technique that allows us to represent a highdimensional matrix in a lower dimension. SVD achieves this by identifying and removing the less important parts of the matrix and producing an approximation in the desired number of dimensions."
   ]
  },
  {
   "cell_type": "markdown",
   "id": "3cb4cefa",
   "metadata": {},
   "source": [
    "# Supervised Learning"
   ]
  },
  {
   "cell_type": "markdown",
   "id": "b707b273",
   "metadata": {},
   "source": [
    "### Gradient Boosting"
   ]
  },
  {
   "cell_type": "code",
   "execution_count": 10,
   "id": "19ca538d",
   "metadata": {},
   "outputs": [
    {
     "data": {
      "text/plain": [
       "0.9736842105263158"
      ]
     },
     "execution_count": 10,
     "metadata": {},
     "output_type": "execute_result"
    }
   ],
   "source": [
    "#Divide the dataset into the feature dataframe and the target class series.\n",
    "X, y = iris.drop('class', axis=1), iris['class']\n",
    "\n",
    "#Split the data into training and test datasets. \n",
    "#We will train on 75% of the data and assess our performance on 25% of the data\n",
    "\n",
    "#Import the splitting funnction\n",
    "from sklearn.model_selection import train_test_split\n",
    "\n",
    "#Split the data into training and test sets\n",
    "X_train, X_test, y_train, y_test = train_test_split(X, y, test_size=0.25, random_state=0)\n",
    "\n",
    "#Import the Gradient Boosting Classifier\n",
    "from sklearn.ensemble import GradientBoostingClassifier\n",
    "\n",
    "#Apply Gradient Boosting to the training data\n",
    "gbc = GradientBoostingClassifier()\n",
    "gbc.fit(X_train, y_train)\n",
    "\n",
    "#Compute the accuracy on the test set\n",
    "gbc.score(X_test, y_test)"
   ]
  },
  {
   "cell_type": "code",
   "execution_count": 11,
   "id": "af4124be",
   "metadata": {},
   "outputs": [
    {
     "data": {
      "text/plain": [
       "<AxesSubplot:>"
      ]
     },
     "execution_count": 11,
     "metadata": {},
     "output_type": "execute_result"
    },
    {
     "data": {
      "image/png": "[encoded data removed]",
      "text/plain": [
       "<Figure size 432x288 with 1 Axes>"
      ]
     },
     "metadata": {
      "needs_background": "light"
     },
     "output_type": "display_data"
    }
   ],
   "source": [
    "#Display a bar plot of feature importances\n",
    "sns.barplot(x= ['sepal_length','sepal_width','petal_length','petal_width'], y=gbc.feature_importances_)"
   ]
  },
  {
   "cell_type": "markdown",
   "id": "487d3401",
   "metadata": {},
   "source": [
    "# Evaluation metrics"
   ]
  }
 ],
 "metadata": {
  "kernelspec": {
   "display_name": "Python 3",
   "language": "python",
   "name": "python3"
  },
  "language_info": {
   "codemirror_mode": {
    "name": "ipython",
    "version": 3
   },
   "file_extension": ".py",
   "mimetype": "text/x-python",
   "name": "python",
   "nbconvert_exporter": "python",
   "pygments_lexer": "ipython3",
   "version": "3.7.6"
  }
 },
 "nbformat": 4,
 "nbformat_minor": 5
}

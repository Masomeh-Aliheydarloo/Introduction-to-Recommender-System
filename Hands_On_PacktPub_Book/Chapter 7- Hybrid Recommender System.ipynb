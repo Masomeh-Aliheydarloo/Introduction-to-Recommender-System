{
 "cells": [
  {
   "cell_type": "markdown",
   "id": "7eeeb9bd",
   "metadata": {},
   "source": [
    "The workflow of our hybrid model will be as follows:\n",
    "\n",
    "1. Take in a movie title and user as input\n",
    "\n",
    "2. Use a content-based model to compute the 25 most similar movies\n",
    "\n",
    "3. Compute the predicted ratings that the user might give these 25 movies using a collaborative filter\n",
    "\n",
    "4. Return the top 10 movies with the highest predicted rating"
   ]
  },
  {
   "cell_type": "code",
   "execution_count": 1,
   "id": "7b52bfcb",
   "metadata": {},
   "outputs": [],
   "source": [
    "import numpy as np\n",
    "import pandas as pd"
   ]
  },
  {
   "cell_type": "markdown",
   "id": "6f96e163",
   "metadata": {},
   "source": [
    "### Reading the Data"
   ]
  },
  {
   "cell_type": "code",
   "execution_count": null,
   "id": "0bfd2f1c",
   "metadata": {},
   "outputs": [],
   "source": [
    "#Import or compute the cosine_sim matrix\n",
    "cosine_sim = pd.read_csv('../data/cosine_sim.csv')"
   ]
  },
  {
   "cell_type": "code",
   "execution_count": null,
   "id": "a7e56551",
   "metadata": {},
   "outputs": [],
   "source": [
    "#Import or compute the cosine sim mapping matrix\n",
    "cosine_sim_map = pd.read_csv('../data/cosine_sim_map.csv', header=None)\n",
    "\n",
    "#Convert cosine_sim_map into a Pandas Series\n",
    "cosine_sim_map = cosine_sim_map.set_index(0)\n",
    "cosine_sim_map = cosine_sim_map[1]"
   ]
  },
  {
   "cell_type": "code",
   "execution_count": null,
   "id": "6d6c6e94",
   "metadata": {},
   "outputs": [],
   "source": [
    "#Import or compute relevant metadata of the movies\n",
    "smd = pd.read_csv('../data/metadata_small.csv')"
   ]
  },
  {
   "cell_type": "code",
   "execution_count": null,
   "id": "cc3a78fe",
   "metadata": {},
   "outputs": [],
   "source": [
    "#Build title to ID and ID to title mappings\n",
    "id_map = pd.read_csv('../data/movie_ids.csv')\n",
    "id_to_title = id_map.set_index('id')\n",
    "title_to_id = id_map.set_index('title')"
   ]
  },
  {
   "cell_type": "markdown",
   "id": "1eae6edb",
   "metadata": {},
   "source": [
    "### Cross-Validating a Simple SVD Model and train"
   ]
  },
  {
   "cell_type": "code",
   "execution_count": 4,
   "id": "2478baa2",
   "metadata": {},
   "outputs": [
    {
     "name": "stdout",
     "output_type": "stream",
     "text": [
      "Processing epoch 0\n",
      "Processing epoch 1\n",
      "Processing epoch 2\n",
      "Processing epoch 3\n",
      "Processing epoch 4\n",
      "Processing epoch 5\n",
      "Processing epoch 6\n",
      "Processing epoch 7\n",
      "Processing epoch 8\n",
      "Processing epoch 9\n",
      "Processing epoch 0\n",
      "Processing epoch 1\n",
      "Processing epoch 2\n",
      "Processing epoch 3\n",
      "Processing epoch 4\n",
      "Processing epoch 5\n",
      "Processing epoch 6\n",
      "Processing epoch 7\n",
      "Processing epoch 8\n",
      "Processing epoch 9\n",
      "Processing epoch 0\n",
      "Processing epoch 1\n",
      "Processing epoch 2\n",
      "Processing epoch 3\n",
      "Processing epoch 4\n",
      "Processing epoch 5\n",
      "Processing epoch 6\n",
      "Processing epoch 7\n",
      "Processing epoch 8\n",
      "Processing epoch 9\n",
      "Evaluating RMSE, MAE of algorithm SVD on 3 split(s).\n",
      "\n",
      "                  Fold 1  Fold 2  Fold 3  Mean    Std     \n",
      "RMSE (testset)    0.9089  0.9047  0.9096  0.9077  0.0022  \n",
      "MAE (testset)     0.7034  0.6986  0.7023  0.7014  0.0020  \n",
      "Fit time          10.02   10.14   10.01   10.06   0.06    \n",
      "Test time         1.22    1.23    1.44    1.30    0.10    \n"
     ]
    },
    {
     "data": {
      "text/plain": [
       "{'test_rmse': array([0.90890334, 0.90468736, 0.90960166]),\n",
       " 'test_mae': array([0.70340308, 0.69864348, 0.70228687]),\n",
       " 'fit_time': (10.019740104675293, 10.138944625854492, 10.012885808944702),\n",
       " 'test_time': (1.2182986736297607, 1.2340848445892334, 1.4381110668182373)}"
      ]
     },
     "execution_count": 4,
     "metadata": {},
     "output_type": "execute_result"
    }
   ],
   "source": [
    "#Build the SVD based Collaborative filter\n",
    "from surprise import SVD, Reader, Dataset\n",
    "from surprise.model_selection import cross_validate\n",
    "\n",
    "reader = Reader()\n",
    "ratings = pd.read_csv('ratings_small.csv')\n",
    "data = Dataset.load_from_df(ratings[['userId', 'movieId', 'rating']], reader)\n",
    "\n",
    "svd = SVD(verbose=True, n_epochs=10)\n",
    "cross_validate(svd, data, measures=['RMSE', 'MAE'], cv=3, verbose=True)"
   ]
  },
  {
   "cell_type": "code",
   "execution_count": 5,
   "id": "06fca1ef",
   "metadata": {},
   "outputs": [
    {
     "name": "stdout",
     "output_type": "stream",
     "text": [
      "Processing epoch 0\n",
      "Processing epoch 1\n",
      "Processing epoch 2\n",
      "Processing epoch 3\n",
      "Processing epoch 4\n",
      "Processing epoch 5\n",
      "Processing epoch 6\n",
      "Processing epoch 7\n",
      "Processing epoch 8\n",
      "Processing epoch 9\n"
     ]
    },
    {
     "data": {
      "text/plain": [
       "<surprise.prediction_algorithms.matrix_factorization.SVD at 0x14bc8a4c3c8>"
      ]
     },
     "execution_count": 5,
     "metadata": {},
     "output_type": "execute_result"
    }
   ],
   "source": [
    "trainset = data.build_full_trainset()\n",
    "svd.fit(trainset)"
   ]
  },
  {
   "cell_type": "markdown",
   "id": "bad3e29c",
   "metadata": {},
   "source": [
    "### Generating Recommendations(Nearest title)"
   ]
  },
  {
   "cell_type": "code",
   "execution_count": null,
   "id": "56e01145",
   "metadata": {},
   "outputs": [],
   "source": [
    "def hybrid(userId, title):\n",
    "    #Extract the cosine_sim index of the movie\n",
    "    idx = cosine_sim_map[title]\n",
    "    \n",
    "    #Extract the TMDB ID of the movie\n",
    "    tmdbId = title_to_id.loc[title]['id']\n",
    "    \n",
    "    #Extract the movie ID internally assigned by the dataset\n",
    "    movie_id = title_to_id.loc[title]['movieId']\n",
    "    \n",
    "    #Extract the similarity scores and their corresponding index for every movie from the cosine_sim matrix\n",
    "    sim_scores = list(enumerate(cosine_sim[str(int(idx))]))\n",
    "    \n",
    "    #Sort the (index, score) tuples in decreasing order of similarity scores\n",
    "    sim_scores = sorted(sim_scores, key=lambda x: x[1], reverse=True)\n",
    "    \n",
    "    #Select the top 25 tuples, excluding the first \n",
    "    #(as it is the similarity score of the movie with itself)\n",
    "    sim_scores = sim_scores[1:26]\n",
    "    \n",
    "    #Store the cosine_sim indices of the top 25 movies in a list\n",
    "    movie_indices = [i[0] for i in sim_scores]\n",
    "\n",
    "    #Extract the metadata of the aforementioned movies\n",
    "    movies = smd.iloc[movie_indices][['title', 'vote_count', 'vote_average', 'year', 'id']]\n",
    "    \n",
    "    #Compute the predicted ratings using the SVD filter\n",
    "    movies['est'] = movies['id'].apply(lambda x: svd.predict(userId, id_to_title.loc[x]['movieId']).est)\n",
    "    \n",
    "    #Sort the movies in decreasing order of predicted rating\n",
    "    movies = movies.sort_values('est', ascending=False)\n",
    "    \n",
    "    #Return the top 10 movies as recommendations\n",
    "    return movies.head(10)"
   ]
  },
  {
   "cell_type": "code",
   "execution_count": null,
   "id": "8ddcdbe9",
   "metadata": {},
   "outputs": [],
   "source": [
    "hybrid(1, 'Avatar')"
   ]
  }
 ],
 "metadata": {
  "kernelspec": {
   "display_name": "Python 3",
   "language": "python",
   "name": "python3"
  },
  "language_info": {
   "codemirror_mode": {
    "name": "ipython",
    "version": 3
   },
   "file_extension": ".py",
   "mimetype": "text/x-python",
   "name": "python",
   "nbconvert_exporter": "python",
   "pygments_lexer": "ipython3",
   "version": "3.7.6"
  }
 },
 "nbformat": 4,
 "nbformat_minor": 5
}

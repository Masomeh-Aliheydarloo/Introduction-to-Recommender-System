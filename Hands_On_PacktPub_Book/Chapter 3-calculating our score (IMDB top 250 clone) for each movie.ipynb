{
 "cells": [
  {
   "cell_type": "code",
   "execution_count": 1,
   "id": "9c4db73f",
   "metadata": {},
   "outputs": [
    {
     "name": "stderr",
     "output_type": "stream",
     "text": [
      "C:\\Users\\admin\\anaconda3\\lib\\site-packages\\IPython\\core\\interactiveshell.py:3166: DtypeWarning: Columns (10) have mixed types.Specify dtype option on import or set low_memory=False.\n",
      "  interactivity=interactivity, compiler=compiler, result=result)\n"
     ]
    },
    {
     "data": {
      "text/plain": [
       "Index(['adult', 'belongs_to_collection', 'budget', 'genres', 'homepage', 'id',\n",
       "       'imdb_id', 'original_language', 'original_title', 'overview',\n",
       "       'popularity', 'poster_path', 'production_companies',\n",
       "       'production_countries', 'release_date', 'revenue', 'runtime',\n",
       "       'spoken_languages', 'status', 'tagline', 'title', 'video',\n",
       "       'vote_average', 'vote_count'],\n",
       "      dtype='object')"
      ]
     },
     "execution_count": 1,
     "metadata": {},
     "output_type": "execute_result"
    }
   ],
   "source": [
    "import pandas as pd\n",
    "import numpy as np\n",
    "\n",
    "df = pd.read_csv('movies_metadata.csv')\n",
    "df.columns"
   ]
  },
  {
   "cell_type": "markdown",
   "id": "79a5c734",
   "metadata": {},
   "source": [
    "Fortunately, we do not have to brainstorm a mathematical formula for the metric. As the title of this chapter states, we are building an IMDB top 250 clone. Therefore, we shall use IMDB's weighted rating formula as our metric. Mathematically, it can be represented as follows:\n",
    "\n",
    "Weighted Rating (WR) = (v/v+m *R) +(m/n+m *C)\n",
    "\n",
    "The following apply:\n",
    "\n",
    "    v is the number of votes garnered by the movie\n",
    "    m is the minimum number of votes required for the movie to be in the chart (the prerequisite)\n",
    "    R is the mean rating of the movie\n",
    "    C is the mean rating of all the movies in the dataset\n",
    "We already have the values for v and R for every movie in the form of the vote_count and vote_average features respectively."
   ]
  },
  {
   "cell_type": "markdown",
   "id": "3779104f",
   "metadata": {},
   "source": [
    "### First prerequisite"
   ]
  },
  {
   "cell_type": "code",
   "execution_count": 2,
   "id": "28a81d00",
   "metadata": {},
   "outputs": [
    {
     "data": {
      "text/plain": [
       "50.0"
      ]
     },
     "execution_count": 2,
     "metadata": {},
     "output_type": "execute_result"
    }
   ],
   "source": [
    "#Calculate the number of votes garnered by the 80th percentile movie\n",
    "m = df['vote_count'].quantile(0.80)\n",
    "m\n",
    "#We can see that only 20% of the movies have gained more than 50 votes. Therefore, our value of m is 50."
   ]
  },
  {
   "cell_type": "markdown",
   "id": "f3339c7a",
   "metadata": {},
   "source": [
    "### Second prerequisite"
   ]
  },
  {
   "cell_type": "code",
   "execution_count": 3,
   "id": "54a29224",
   "metadata": {},
   "outputs": [
    {
     "data": {
      "text/plain": [
       "(8963, 24)"
      ]
     },
     "execution_count": 3,
     "metadata": {},
     "output_type": "execute_result"
    }
   ],
   "source": [
    "#Only consider movies longer than 45 minutes and shorter than 300 minutes\n",
    "q_movies = df[(df['runtime'] >= 45) & (df['runtime'] <= 300)]\n",
    "#Only consider movies that have garnered more than m votes\n",
    "q_movies = q_movies[q_movies['vote_count'] >= m]\n",
    "#Inspect the number of movies that made the cut\n",
    "q_movies.shape\n",
    "#We see that from our dataset of 45,000 movies approximately 9,000 movies (or 20%) made the cut."
   ]
  },
  {
   "cell_type": "code",
   "execution_count": 4,
   "id": "fd52e33e",
   "metadata": {},
   "outputs": [
    {
     "data": {
      "text/plain": [
       "5.618207215133889"
      ]
     },
     "execution_count": 4,
     "metadata": {},
     "output_type": "execute_result"
    }
   ],
   "source": [
    "# Calculate C\n",
    "C = df['vote_average'].mean()\n",
    "C"
   ]
  },
  {
   "cell_type": "markdown",
   "id": "63d4425e",
   "metadata": {},
   "source": [
    "### calculating our score for each movie"
   ]
  },
  {
   "cell_type": "code",
   "execution_count": 6,
   "id": "81231216",
   "metadata": {},
   "outputs": [],
   "source": [
    "# Function to compute the IMDB weighted rating for each movie\n",
    "def weighted_rating(x, m=m, C=C):\n",
    "    v = x['vote_count']\n",
    "    R = x['vote_average']\n",
    "    # Compute the weighted score\n",
    "    return (v/(v+m) * R) + (m/(m+v) * C)\n"
   ]
  },
  {
   "cell_type": "code",
   "execution_count": 7,
   "id": "d9e1a591",
   "metadata": {},
   "outputs": [],
   "source": [
    "# Compute the score using the weighted_rating function defined above\n",
    "q_movies['score'] = q_movies.apply(weighted_rating, axis=1)"
   ]
  },
  {
   "cell_type": "code",
   "execution_count": 8,
   "id": "9681f91c",
   "metadata": {},
   "outputs": [
    {
     "data": {
      "text/html": [
       "<div>\n",
       "<style scoped>\n",
       "    .dataframe tbody tr th:only-of-type {\n",
       "        vertical-align: middle;\n",
       "    }\n",
       "\n",
       "    .dataframe tbody tr th {\n",
       "        vertical-align: top;\n",
       "    }\n",
       "\n",
       "    .dataframe thead th {\n",
       "        text-align: right;\n",
       "    }\n",
       "</style>\n",
       "<table border=\"1\" class=\"dataframe\">\n",
       "  <thead>\n",
       "    <tr style=\"text-align: right;\">\n",
       "      <th></th>\n",
       "      <th>title</th>\n",
       "      <th>vote_count</th>\n",
       "      <th>vote_average</th>\n",
       "      <th>score</th>\n",
       "      <th>runtime</th>\n",
       "    </tr>\n",
       "  </thead>\n",
       "  <tbody>\n",
       "    <tr>\n",
       "      <th>10309</th>\n",
       "      <td>Dilwale Dulhania Le Jayenge</td>\n",
       "      <td>661.0</td>\n",
       "      <td>9.1</td>\n",
       "      <td>8.855148</td>\n",
       "      <td>190.0</td>\n",
       "    </tr>\n",
       "    <tr>\n",
       "      <th>314</th>\n",
       "      <td>The Shawshank Redemption</td>\n",
       "      <td>8358.0</td>\n",
       "      <td>8.5</td>\n",
       "      <td>8.482863</td>\n",
       "      <td>142.0</td>\n",
       "    </tr>\n",
       "    <tr>\n",
       "      <th>834</th>\n",
       "      <td>The Godfather</td>\n",
       "      <td>6024.0</td>\n",
       "      <td>8.5</td>\n",
       "      <td>8.476278</td>\n",
       "      <td>175.0</td>\n",
       "    </tr>\n",
       "    <tr>\n",
       "      <th>40251</th>\n",
       "      <td>Your Name.</td>\n",
       "      <td>1030.0</td>\n",
       "      <td>8.5</td>\n",
       "      <td>8.366584</td>\n",
       "      <td>106.0</td>\n",
       "    </tr>\n",
       "    <tr>\n",
       "      <th>12481</th>\n",
       "      <td>The Dark Knight</td>\n",
       "      <td>12269.0</td>\n",
       "      <td>8.3</td>\n",
       "      <td>8.289115</td>\n",
       "      <td>152.0</td>\n",
       "    </tr>\n",
       "    <tr>\n",
       "      <th>2843</th>\n",
       "      <td>Fight Club</td>\n",
       "      <td>9678.0</td>\n",
       "      <td>8.3</td>\n",
       "      <td>8.286216</td>\n",
       "      <td>139.0</td>\n",
       "    </tr>\n",
       "    <tr>\n",
       "      <th>292</th>\n",
       "      <td>Pulp Fiction</td>\n",
       "      <td>8670.0</td>\n",
       "      <td>8.3</td>\n",
       "      <td>8.284623</td>\n",
       "      <td>154.0</td>\n",
       "    </tr>\n",
       "    <tr>\n",
       "      <th>522</th>\n",
       "      <td>Schindler's List</td>\n",
       "      <td>4436.0</td>\n",
       "      <td>8.3</td>\n",
       "      <td>8.270109</td>\n",
       "      <td>195.0</td>\n",
       "    </tr>\n",
       "    <tr>\n",
       "      <th>23673</th>\n",
       "      <td>Whiplash</td>\n",
       "      <td>4376.0</td>\n",
       "      <td>8.3</td>\n",
       "      <td>8.269704</td>\n",
       "      <td>105.0</td>\n",
       "    </tr>\n",
       "    <tr>\n",
       "      <th>5481</th>\n",
       "      <td>Spirited Away</td>\n",
       "      <td>3968.0</td>\n",
       "      <td>8.3</td>\n",
       "      <td>8.266628</td>\n",
       "      <td>125.0</td>\n",
       "    </tr>\n",
       "    <tr>\n",
       "      <th>2211</th>\n",
       "      <td>Life Is Beautiful</td>\n",
       "      <td>3643.0</td>\n",
       "      <td>8.3</td>\n",
       "      <td>8.263691</td>\n",
       "      <td>116.0</td>\n",
       "    </tr>\n",
       "    <tr>\n",
       "      <th>1178</th>\n",
       "      <td>The Godfather: Part II</td>\n",
       "      <td>3418.0</td>\n",
       "      <td>8.3</td>\n",
       "      <td>8.261335</td>\n",
       "      <td>200.0</td>\n",
       "    </tr>\n",
       "    <tr>\n",
       "      <th>1152</th>\n",
       "      <td>One Flew Over the Cuckoo's Nest</td>\n",
       "      <td>3001.0</td>\n",
       "      <td>8.3</td>\n",
       "      <td>8.256051</td>\n",
       "      <td>133.0</td>\n",
       "    </tr>\n",
       "    <tr>\n",
       "      <th>1176</th>\n",
       "      <td>Psycho</td>\n",
       "      <td>2405.0</td>\n",
       "      <td>8.3</td>\n",
       "      <td>8.245381</td>\n",
       "      <td>109.0</td>\n",
       "    </tr>\n",
       "    <tr>\n",
       "      <th>351</th>\n",
       "      <td>Forrest Gump</td>\n",
       "      <td>8147.0</td>\n",
       "      <td>8.2</td>\n",
       "      <td>8.184252</td>\n",
       "      <td>142.0</td>\n",
       "    </tr>\n",
       "    <tr>\n",
       "      <th>1184</th>\n",
       "      <td>Once Upon a Time in America</td>\n",
       "      <td>1104.0</td>\n",
       "      <td>8.3</td>\n",
       "      <td>8.183804</td>\n",
       "      <td>229.0</td>\n",
       "    </tr>\n",
       "    <tr>\n",
       "      <th>1154</th>\n",
       "      <td>The Empire Strikes Back</td>\n",
       "      <td>5998.0</td>\n",
       "      <td>8.2</td>\n",
       "      <td>8.178656</td>\n",
       "      <td>124.0</td>\n",
       "    </tr>\n",
       "    <tr>\n",
       "      <th>18465</th>\n",
       "      <td>The Intouchables</td>\n",
       "      <td>5410.0</td>\n",
       "      <td>8.2</td>\n",
       "      <td>8.176357</td>\n",
       "      <td>112.0</td>\n",
       "    </tr>\n",
       "    <tr>\n",
       "      <th>289</th>\n",
       "      <td>Leon: The Professional</td>\n",
       "      <td>4293.0</td>\n",
       "      <td>8.2</td>\n",
       "      <td>8.170276</td>\n",
       "      <td>110.0</td>\n",
       "    </tr>\n",
       "    <tr>\n",
       "      <th>3030</th>\n",
       "      <td>The Green Mile</td>\n",
       "      <td>4166.0</td>\n",
       "      <td>8.2</td>\n",
       "      <td>8.169381</td>\n",
       "      <td>189.0</td>\n",
       "    </tr>\n",
       "    <tr>\n",
       "      <th>1170</th>\n",
       "      <td>GoodFellas</td>\n",
       "      <td>3211.0</td>\n",
       "      <td>8.2</td>\n",
       "      <td>8.160414</td>\n",
       "      <td>145.0</td>\n",
       "    </tr>\n",
       "    <tr>\n",
       "      <th>2216</th>\n",
       "      <td>American History X</td>\n",
       "      <td>3120.0</td>\n",
       "      <td>8.2</td>\n",
       "      <td>8.159278</td>\n",
       "      <td>119.0</td>\n",
       "    </tr>\n",
       "    <tr>\n",
       "      <th>1161</th>\n",
       "      <td>12 Angry Men</td>\n",
       "      <td>2130.0</td>\n",
       "      <td>8.2</td>\n",
       "      <td>8.140785</td>\n",
       "      <td>96.0</td>\n",
       "    </tr>\n",
       "    <tr>\n",
       "      <th>9698</th>\n",
       "      <td>Howl's Moving Castle</td>\n",
       "      <td>2049.0</td>\n",
       "      <td>8.2</td>\n",
       "      <td>8.138499</td>\n",
       "      <td>119.0</td>\n",
       "    </tr>\n",
       "    <tr>\n",
       "      <th>2884</th>\n",
       "      <td>Princess Mononoke</td>\n",
       "      <td>2041.0</td>\n",
       "      <td>8.2</td>\n",
       "      <td>8.138264</td>\n",
       "      <td>134.0</td>\n",
       "    </tr>\n",
       "  </tbody>\n",
       "</table>\n",
       "</div>"
      ],
      "text/plain": [
       "                                 title  vote_count  vote_average     score  \\\n",
       "10309      Dilwale Dulhania Le Jayenge       661.0           9.1  8.855148   \n",
       "314           The Shawshank Redemption      8358.0           8.5  8.482863   \n",
       "834                      The Godfather      6024.0           8.5  8.476278   \n",
       "40251                       Your Name.      1030.0           8.5  8.366584   \n",
       "12481                  The Dark Knight     12269.0           8.3  8.289115   \n",
       "2843                        Fight Club      9678.0           8.3  8.286216   \n",
       "292                       Pulp Fiction      8670.0           8.3  8.284623   \n",
       "522                   Schindler's List      4436.0           8.3  8.270109   \n",
       "23673                         Whiplash      4376.0           8.3  8.269704   \n",
       "5481                     Spirited Away      3968.0           8.3  8.266628   \n",
       "2211                 Life Is Beautiful      3643.0           8.3  8.263691   \n",
       "1178            The Godfather: Part II      3418.0           8.3  8.261335   \n",
       "1152   One Flew Over the Cuckoo's Nest      3001.0           8.3  8.256051   \n",
       "1176                            Psycho      2405.0           8.3  8.245381   \n",
       "351                       Forrest Gump      8147.0           8.2  8.184252   \n",
       "1184       Once Upon a Time in America      1104.0           8.3  8.183804   \n",
       "1154           The Empire Strikes Back      5998.0           8.2  8.178656   \n",
       "18465                 The Intouchables      5410.0           8.2  8.176357   \n",
       "289             Leon: The Professional      4293.0           8.2  8.170276   \n",
       "3030                    The Green Mile      4166.0           8.2  8.169381   \n",
       "1170                        GoodFellas      3211.0           8.2  8.160414   \n",
       "2216                American History X      3120.0           8.2  8.159278   \n",
       "1161                      12 Angry Men      2130.0           8.2  8.140785   \n",
       "9698              Howl's Moving Castle      2049.0           8.2  8.138499   \n",
       "2884                 Princess Mononoke      2041.0           8.2  8.138264   \n",
       "\n",
       "       runtime  \n",
       "10309    190.0  \n",
       "314      142.0  \n",
       "834      175.0  \n",
       "40251    106.0  \n",
       "12481    152.0  \n",
       "2843     139.0  \n",
       "292      154.0  \n",
       "522      195.0  \n",
       "23673    105.0  \n",
       "5481     125.0  \n",
       "2211     116.0  \n",
       "1178     200.0  \n",
       "1152     133.0  \n",
       "1176     109.0  \n",
       "351      142.0  \n",
       "1184     229.0  \n",
       "1154     124.0  \n",
       "18465    112.0  \n",
       "289      110.0  \n",
       "3030     189.0  \n",
       "1170     145.0  \n",
       "2216     119.0  \n",
       "1161      96.0  \n",
       "9698     119.0  \n",
       "2884     134.0  "
      ]
     },
     "execution_count": 8,
     "metadata": {},
     "output_type": "execute_result"
    }
   ],
   "source": [
    "#Sort movies in descending order of their scores\n",
    "q_movies = q_movies.sort_values('score', ascending=False)\n",
    "\n",
    "#Print the top 25 movies\n",
    "q_movies[['title', 'vote_count', 'vote_average', 'score', 'runtime']].head(25)"
   ]
  },
  {
   "cell_type": "code",
   "execution_count": null,
   "id": "651dbee8",
   "metadata": {},
   "outputs": [],
   "source": []
  }
 ],
 "metadata": {
  "kernelspec": {
   "display_name": "Python 3",
   "language": "python",
   "name": "python3"
  },
  "language_info": {
   "codemirror_mode": {
    "name": "ipython",
    "version": 3
   },
   "file_extension": ".py",
   "mimetype": "text/x-python",
   "name": "python",
   "nbconvert_exporter": "python",
   "pygments_lexer": "ipython3",
   "version": "3.7.6"
  }
 },
 "nbformat": 4,
 "nbformat_minor": 5
}
